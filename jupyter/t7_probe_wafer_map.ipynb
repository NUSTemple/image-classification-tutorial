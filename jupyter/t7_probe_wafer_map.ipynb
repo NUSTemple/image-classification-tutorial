{
 "cells": [
  {
   "cell_type": "markdown",
   "metadata": {
    "toc": true
   },
   "source": [
    "<h1>Table of Contents<span class=\"tocSkip\"></span></h1>\n",
    "<div class=\"toc\"><ul class=\"toc-item\"><li><span><a href=\"#Import-Library\" data-toc-modified-id=\"Import-Library-1\"><span class=\"toc-item-num\">1&nbsp;&nbsp;</span>Import Library</a></span></li><li><span><a href=\"#Convert-Ndarray-to-Base64-String\" data-toc-modified-id=\"Convert-Ndarray-to-Base64-String-2\"><span class=\"toc-item-num\">2&nbsp;&nbsp;</span>Convert Ndarray to Base64 String</a></span></li><li><span><a href=\"#Load-Data\" data-toc-modified-id=\"Load-Data-3\"><span class=\"toc-item-num\">3&nbsp;&nbsp;</span>Load Data</a></span></li><li><span><a href=\"#Filter-Data-Without-Labels\" data-toc-modified-id=\"Filter-Data-Without-Labels-4\"><span class=\"toc-item-num\">4&nbsp;&nbsp;</span>Filter Data Without Labels</a></span></li><li><span><a href=\"#Save-Results\" data-toc-modified-id=\"Save-Results-5\"><span class=\"toc-item-num\">5&nbsp;&nbsp;</span>Save Results</a></span></li></ul></div>"
   ]
  },
  {
   "cell_type": "markdown",
   "metadata": {},
   "source": [
    "## Import Library"
   ]
  },
  {
   "cell_type": "code",
   "execution_count": 4,
   "metadata": {
    "ExecuteTime": {
     "end_time": "2020-01-27T15:57:03.064366Z",
     "start_time": "2020-01-27T15:57:01.425402Z"
    }
   },
   "outputs": [],
   "source": [
    "import pandas as pd\n",
    "import cv2\n",
    "import base64\n",
    "import time"
   ]
  },
  {
   "cell_type": "markdown",
   "metadata": {},
   "source": [
    "## Convert Ndarray to Base64 String"
   ]
  },
  {
   "cell_type": "code",
   "execution_count": 5,
   "metadata": {
    "ExecuteTime": {
     "end_time": "2020-01-27T15:57:05.554184Z",
     "start_time": "2020-01-27T15:57:05.547981Z"
    }
   },
   "outputs": [],
   "source": [
    "def matrixToBase64(m):\n",
    "    retval, buffer = cv2.imencode('.png', m)\n",
    "    pic_str = base64.b64encode(buffer).decode()\n",
    "    return pic_str"
   ]
  },
  {
   "cell_type": "markdown",
   "metadata": {},
   "source": [
    "## Load Data"
   ]
  },
  {
   "cell_type": "code",
   "execution_count": null,
   "metadata": {
    "ExecuteTime": {
     "start_time": "2020-01-27T15:57:27.477Z"
    }
   },
   "outputs": [],
   "source": [
    "t1 = time.time()\n",
    "df=pd.read_pickle(\"/home/pengtan/Projects/python/image-classification-tutorial/data/wafer-map-pkl/LSWMD.pkl\")\n",
    "df.info()\n",
    "elapsed = time.time() - t1\n",
    "print(\"Loading Used time is \" + str(elapsed))\n",
    "\n",
    "df['failureNum']=df.failureType\n",
    "df['trainTestNum']=df.trianTestLabel\n",
    "mapping_type={'Center':0,'Donut':1,'Edge-Loc':2,'Edge-Ring':3,\n",
    "              'Loc':4,'Random':5,'Scratch':6,'Near-full':7,'none':8}\n",
    "mapping_traintest={'Training':0,'Test':1}\n",
    "df=df.replace({'failureNum':mapping_type, 'trainTestNum':mapping_traintest})\n",
    "t2 = time.time()\n",
    "df['imgStr'] = [matrixToBase64(m) for m in df['waferMap']]\n",
    "elapsed = time.time() - t2\n",
    "print(\"Conversion used time is \" + str(elapsed))\n",
    "df['rowkey'] = df.index"
   ]
  },
  {
   "cell_type": "markdown",
   "metadata": {},
   "source": [
    "## Filter Data Without Labels"
   ]
  },
  {
   "cell_type": "code",
   "execution_count": 6,
   "metadata": {
    "ExecuteTime": {
     "end_time": "2020-01-27T16:01:14.989891Z",
     "start_time": "2020-01-27T15:57:27.478635Z"
    }
   },
   "outputs": [
    {
     "name": "stdout",
     "output_type": "stream",
     "text": [
      "<class 'pandas.core.frame.DataFrame'>\n",
      "RangeIndex: 811457 entries, 0 to 811456\n",
      "Data columns (total 6 columns):\n",
      "waferMap          811457 non-null object\n",
      "dieSize           811457 non-null float64\n",
      "lotName           811457 non-null object\n",
      "waferIndex        811457 non-null float64\n",
      "trianTestLabel    811457 non-null object\n",
      "failureType       811457 non-null object\n",
      "dtypes: float64(2), object(4)\n",
      "memory usage: 37.1+ MB\n",
      "Loading Used time is 125.80574345588684\n"
     ]
    },
    {
     "name": "stderr",
     "output_type": "stream",
     "text": [
      "/home/pengtan/Apps/anaconda3/envs/tf/lib/python3.7/site-packages/pandas/core/internals/managers.py:1937: FutureWarning: elementwise comparison failed; returning scalar instead, but in the future will perform elementwise comparison\n",
      "  op = lambda x: operator.eq(x, b)\n"
     ]
    },
    {
     "name": "stdout",
     "output_type": "stream",
     "text": [
      "Conversion used time is 44.977057218551636\n"
     ]
    }
   ],
   "source": [
    "df_withlabel = df[(df['failureNum']>=0) & (df['failureNum']<=8)]\n",
    "df_withlabel =df_withlabel.reset_index()\n",
    "df_withpattern = df[(df['failureNum']>=0) & (df['failureNum']<=7)]\n",
    "df_withpattern = df_withpattern.reset_index()\n",
    "df_nonpattern = df[(df['failureNum']==8)]"
   ]
  },
  {
   "cell_type": "markdown",
   "metadata": {},
   "source": [
    "## Save Results"
   ]
  },
  {
   "cell_type": "code",
   "execution_count": 7,
   "metadata": {
    "ExecuteTime": {
     "end_time": "2020-01-27T16:03:04.239703Z",
     "start_time": "2020-01-27T16:03:01.046151Z"
    }
   },
   "outputs": [],
   "source": [
    "df_withlabel[['rowkey', 'lotName', 'waferIndex', 'dieSize', 'imgStr', 'failureNum', 'trainTestNum']].to_csv(\"/home/pengtan/Projects/python/image-classification-tutorial/data/wafer-map-pkl/waferMap.csv\", header=True, index=False)"
   ]
  }
 ],
 "metadata": {
  "kernelspec": {
   "display_name": "Python [conda env:tf] *",
   "language": "python",
   "name": "conda-env-tf-py"
  },
  "language_info": {
   "codemirror_mode": {
    "name": "ipython",
    "version": 3
   },
   "file_extension": ".py",
   "mimetype": "text/x-python",
   "name": "python",
   "nbconvert_exporter": "python",
   "pygments_lexer": "ipython3",
   "version": "3.7.6"
  },
  "toc": {
   "base_numbering": 1,
   "nav_menu": {},
   "number_sections": true,
   "sideBar": true,
   "skip_h1_title": false,
   "title_cell": "Table of Contents",
   "title_sidebar": "Contents",
   "toc_cell": true,
   "toc_position": {},
   "toc_section_display": true,
   "toc_window_display": false
  }
 },
 "nbformat": 4,
 "nbformat_minor": 2
}
